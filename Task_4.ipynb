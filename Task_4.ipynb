{
 "cells": [
  {
   "cell_type": "code",
   "execution_count": 1,
   "id": "e3c4d68a",
   "metadata": {
    "pycharm": {
     "name": "#%%\n"
    }
   },
   "outputs": [
    {
     "name": "stderr",
     "output_type": "stream",
     "text": [
      "Setting default log level to \"WARN\".\n",
      "To adjust logging level use sc.setLogLevel(newLevel). For SparkR, use setLogLevel(newLevel).\n"
     ]
    },
    {
     "name": "stdout",
     "output_type": "stream",
     "text": [
      "22/08/24 09:59:29 WARN NativeCodeLoader: Unable to load native-hadoop library for your platform... using builtin-java classes where applicable\n"
     ]
    }
   ],
   "source": [
    "import findspark\n",
    "findspark.init()\n",
    "from pyspark.sql import SparkSession\n",
    "import pyspark.sql.functions as F\n",
    "from pyspark.sql import Window\n",
    "\n",
    "spark = SparkSession.builder.config('spark.driver.extraClassPath', '/home/ivannikalayeu/Downloads/postgresql-42.4.2.jar')\\\n",
    ".config(\"spark.executor.instances\", \"2\")\\\n",
    ".config(\"spark.executor.memory\", \"1g\")\\\n",
    ".config('spark.executor.cores','1')\\\n",
    ".config(\"spark.driver.memory\", \"8g\").getOrCreate()\n",
    "\n",
    "url = 'jdbc:postgresql://localhost:5432/don'\n",
    "properties = {'user': 'postgres', 'password': 'qwerty'}\n",
    "\n"
   ]
  },
  {
   "cell_type": "code",
   "execution_count": 2,
   "id": "e7c99e2e",
   "metadata": {
    "pycharm": {
     "name": "#%%\n"
    }
   },
   "outputs": [],
   "source": [
    "# df_actor = spark.read.option('partitionColumn','actor_id')\\\n",
    "# .option('numPartitions',500)\\\n",
    "# .option(\"lowerBound\", 0)\\\n",
    "# .option(\"upperBound\", 1000000)\\\n",
    "# .jdbc(url= url, table= 'actor', properties= properties)"
   ]
  },
  {
   "cell_type": "code",
   "execution_count": null,
   "id": "8c232c69",
   "metadata": {
    "pycharm": {
     "name": "#%%\n"
    }
   },
   "outputs": [],
   "source": [
    "\n"
   ]
  },
  {
   "cell_type": "code",
   "execution_count": null,
   "id": "a304e006",
   "metadata": {
    "pycharm": {
     "name": "#%%\n"
    }
   },
   "outputs": [],
   "source": []
  },
  {
   "cell_type": "code",
   "execution_count": 3,
   "id": "a3dc00c7",
   "metadata": {
    "pycharm": {
     "name": "#%%\n"
    }
   },
   "outputs": [
    {
     "name": "stderr",
     "output_type": "stream",
     "text": [
      "[Stage 4:>                                                          (0 + 1) / 1]\r"
     ]
    },
    {
     "name": "stdout",
     "output_type": "stream",
     "text": [
      "+-----------+-----+\n",
      "|       name|count|\n",
      "+-----------+-----+\n",
      "|     Sports|   74|\n",
      "|    Foreign|   73|\n",
      "|     Family|   69|\n",
      "|Documentary|   68|\n",
      "|  Animation|   66|\n",
      "|     Action|   64|\n",
      "|        New|   63|\n",
      "|      Drama|   62|\n",
      "|      Games|   61|\n",
      "|     Sci-Fi|   61|\n",
      "|   Children|   60|\n",
      "|     Comedy|   58|\n",
      "|     Travel|   57|\n",
      "|   Classics|   57|\n",
      "|     Horror|   56|\n",
      "|      Music|   51|\n",
      "+-----------+-----+\n",
      "\n"
     ]
    },
    {
     "name": "stderr",
     "output_type": "stream",
     "text": [
      "\r",
      "                                                                                \r"
     ]
    }
   ],
   "source": [
    "# Вывести количество фильмов в каждой категории, отсортировать по убыванию.\n",
    "\n",
    "df_category = spark.read.jdbc(url=url, table = 'category', properties=properties)\n",
    "df_film_category = spark.read.jdbc(url=url, table='film_category', properties=properties)\n",
    "\n",
    "df_rez_1 = (\n",
    "    df_film_category\n",
    "    .join(df_category, df_film_category.category_id == df_category.category_id, how='inner')\n",
    "    .select(F.col('name'))\n",
    "    .groupby(F.col('name'))\n",
    "    .count()\n",
    "    .orderBy(F.col('count').desc())\n",
    "    .show()\n",
    ")\n"
   ]
  },
  {
   "cell_type": "code",
   "execution_count": 4,
   "id": "877dea91",
   "metadata": {
    "pycharm": {
     "name": "#%%\n"
    }
   },
   "outputs": [
    {
     "name": "stdout",
     "output_type": "stream",
     "text": [
      "+--------+----------+-----------+-----+\n",
      "|actor_id|first_name|  last_name|count|\n",
      "+--------+----------+-----------+-----+\n",
      "|     107|      GINA|  DEGENERES|  753|\n",
      "|     181|   MATTHEW|     CARREY|  678|\n",
      "|     198|      MARY|     KEITEL|  674|\n",
      "|     144|    ANGELA|WITHERSPOON|  654|\n",
      "|     102|    WALTER|       TORN|  640|\n",
      "|      60|     HENRY|      BERRY|  612|\n",
      "|     150|     JAYNE|      NOLTE|  611|\n",
      "|      37|       VAL|     BOLGER|  605|\n",
      "|      23|    SANDRA|     KILMER|  604|\n",
      "|      90|      SEAN|    GUINESS|  599|\n",
      "+--------+----------+-----------+-----+\n",
      "only showing top 10 rows\n",
      "\n"
     ]
    }
   ],
   "source": [
    "# Вывести 10 актеров, чьи фильмы большего всего арендовали, отсортировать по убыванию.\n",
    "df_actor = (\n",
    "    spark.read.jdbc(url=url, table = 'actor', properties=properties)\n",
    "    .select(F.col('actor_id'), F.col('first_name'), F.col('last_name'))\n",
    ")\n",
    "\n",
    "\n",
    "df_film_actor = (\n",
    "    spark.read.jdbc(url=url, table = 'film_actor', properties=properties)\n",
    "    .select(F.col('actor_id'), F.col('film_id'))\n",
    ")\n",
    "\n",
    "df_inventory = (\n",
    "    spark.read.jdbc(url=url, table = 'inventory', properties=properties)\n",
    "    .select(F.col('inventory_id'), F.col('film_id'))\n",
    ")\n",
    "\n",
    "df_rental = (\n",
    "    spark.read.jdbc(url=url, table='rental', properties=properties)\n",
    "    .select(F.col('rental_id'), F.col('inventory_id'))\n",
    "\n",
    ")\n",
    "\n",
    "df_rez_2 = (\n",
    "    df_actor.alias('A')\n",
    "        .join(df_film_actor.alias('B'), df_actor.actor_id == df_film_actor.actor_id, how='inner')\n",
    "        .join(df_inventory, df_film_actor.film_id == df_inventory.film_id, how='inner')\n",
    "        .join(df_rental, df_inventory.inventory_id == df_rental.inventory_id, how='inner')\n",
    "        .groupby(F.col('A.actor_id'), F.col('A.first_name'), F.col('last_name'))\n",
    "        .count()\n",
    "        .orderBy(F.col('count').desc())\n",
    "        .show(10)\n",
    ")"
   ]
  },
  {
   "cell_type": "code",
   "execution_count": 5,
   "id": "770888b7",
   "metadata": {
    "pycharm": {
     "name": "#%%\n"
    }
   },
   "outputs": [
    {
     "name": "stderr",
     "output_type": "stream",
     "text": [
      "                                                                                \r"
     ]
    },
    {
     "name": "stdout",
     "output_type": "stream",
     "text": [
      "+-------+-----------+\n",
      "|   name|sum(amount)|\n",
      "+-------+-----------+\n",
      "|Foreign|    4270.67|\n",
      "+-------+-----------+\n",
      "only showing top 1 row\n",
      "\n"
     ]
    }
   ],
   "source": [
    "# Вывести категорию фильмов, на которую потратили больше всего денег.\n",
    "\n",
    "df_category = (\n",
    "    spark.read.jdbc(url=url, table='category', properties=properties)\n",
    "    .select(F.col('category_id'), F.col('name'))\n",
    ")\n",
    "\n",
    "df_film_category = (\n",
    "    spark.read.jdbc(url=url, table='film_category', properties=properties)\n",
    "    .select(F.col('film_id'), F.col('category_id'))\n",
    ")\n",
    "\n",
    "df_inventory = (\n",
    "    spark.read.jdbc(url=url, table='inventory', properties=properties)\n",
    "    .select(F.col('film_id'), F.col('inventory_id'))\n",
    ")\n",
    "\n",
    "df_rental = (\n",
    "    spark.read.jdbc(url=url, table='rental', properties=properties)\n",
    "    .select(F.col('rental_id'), F.col('inventory_id'))\n",
    ")\n",
    "\n",
    "df_payment = (\n",
    "    spark.read.jdbc(url=url, table='payment', properties=properties)\n",
    "    .select(F.col('rental_id'), F.col('amount'))\n",
    ")\n",
    "\n",
    "df_rez_3 = (\n",
    "    df_category.alias('A')\n",
    "    .join(df_film_category.alias('B'), df_category.category_id == df_film_category.category_id, how='inner')\n",
    "    .join(df_inventory, df_film_category.film_id == df_inventory.film_id, how='inner')\n",
    "    .join(df_rental, df_inventory.inventory_id == df_rental.inventory_id, how='inner')\n",
    "    .join(df_payment, df_rental.rental_id == df_payment.rental_id, how='inner')\n",
    "    .groupby(F.col('A.name'))\n",
    "    .sum('amount')\n",
    "#     .withcolumnrenamed('sum('amount')' ')\n",
    "#     .orderby(F.col('sum').desc())\n",
    "    #.agg(F.sum('amount').desc())\n",
    "    .show(1)\n",
    ")"
   ]
  },
  {
   "cell_type": "code",
   "execution_count": 6,
   "id": "2606c442",
   "metadata": {
    "pycharm": {
     "name": "#%%\n"
    }
   },
   "outputs": [
    {
     "name": "stdout",
     "output_type": "stream",
     "text": [
      "+-------+--------------------+\n",
      "|film_id|               title|\n",
      "+-------+--------------------+\n",
      "|    148|      CHOCOLATE DUCK|\n",
      "|    108|       BUTCH PANTHER|\n",
      "|    950|        VOLUME HOUSE|\n",
      "|    642|      ORDER BETRAYED|\n",
      "|    874|        TADPOLE PARK|\n",
      "|    497|    KILL BROTHERHOOD|\n",
      "|    332|FRANKENSTEIN STRA...|\n",
      "|    192|    CROSSING DIVORCE|\n",
      "|    860|    SUICIDES SILENCE|\n",
      "|    128|       CATCH AMISTAD|\n",
      "|    671|     PERDITION FARGO|\n",
      "|    325|       FLOATS GARDEN|\n",
      "|    386|           GUMP DATE|\n",
      "|    955|        WALLS ARTIST|\n",
      "|    359|  GLADIATOR WESTWARD|\n",
      "|    419|         HOCUS FRIDA|\n",
      "|     41|ARSENIC INDEPENDENCE|\n",
      "|    607|         MUPPET MILE|\n",
      "|    318|   FIREHOUSE VIETNAM|\n",
      "|    742|       ROOF CHAMPION|\n",
      "+-------+--------------------+\n",
      "only showing top 20 rows\n",
      "\n"
     ]
    }
   ],
   "source": [
    "# Вывести названия фильмов, которых нет в inventory.\n",
    "\n",
    "df_film = (\n",
    "    spark.read.jdbc(url=url, table='film', properties=properties)\n",
    "    .select(F.col('film_id'), F.col('title'))\n",
    ")\n",
    "df_inventory = (\n",
    "    spark.read.jdbc(url=url, table='inventory', properties=properties)\n",
    "    .select(F.col('film_id'), F.col('store_id'))\n",
    ")\n",
    "\n",
    "df_rez_4 = (\n",
    "    df_film.alias('A')\n",
    "    .join(df_inventory.alias('B'), df_film.film_id == df_inventory.film_id, how='leftanti')\n",
    "   .show()\n",
    ")"
   ]
  },
  {
   "cell_type": "code",
   "execution_count": 7,
   "id": "2cfba012",
   "metadata": {
    "pycharm": {
     "name": "#%%\n"
    }
   },
   "outputs": [
    {
     "name": "stderr",
     "output_type": "stream",
     "text": [
      "                                                                                \r"
     ]
    },
    {
     "name": "stdout",
     "output_type": "stream",
     "text": [
      "+--------+----------+---------+-----+\n",
      "|actor_id|first_name|Last_name|count|\n",
      "+--------+----------+---------+-----+\n",
      "|      17|     HELEN|   VOIGHT|    7|\n",
      "|     127|     KEVIN|  GARLAND|    5|\n",
      "|      66|      MARY|    TANDY|    5|\n",
      "|      80|     RALPH|     CRUZ|    5|\n",
      "|     140|    WHOOPI|     HURT|    5|\n",
      "+--------+----------+---------+-----+\n",
      "\n"
     ]
    }
   ],
   "source": [
    "# Вывести топ 3 актеров, которые больше всего появлялись в фильмах в категории “Children”. Если у нескольких актеров одинаковое кол-во фильмов, вывести всех..\n",
    "\n",
    "df_query = (\n",
    "    df_actor.alias('A')\n",
    "    .join(df_film_actor.alias('B'), df_actor.actor_id == df_film_actor.actor_id, how='inner')\n",
    "    .join(df_film, df_film_actor.film_id == df_film.film_id, how='inner')\n",
    "    .join(df_film_category, df_film.film_id == df_film_category.film_id, how='inner')\n",
    "    .join(df_category, df_film_category.category_id == df_category.category_id, how='inner')\n",
    "    .filter(F.col('name') == 'Children')\n",
    "    \n",
    ")\n",
    "\n",
    "df_condition = (\n",
    "    df_query\n",
    "    .groupby(F.col('A.actor_id'))\n",
    "    .count()\n",
    "    .orderBy(F.col('count').desc())\n",
    "    .limit(3)\n",
    "    .orderBy(F.col('count'))\n",
    "    .limit(1)\n",
    "    .select(F.col('count'))\n",
    "    .rdd.flatMap(lambda x: x).collect()\n",
    ")\n",
    "\n",
    "rate = int(df_condition[0])\n",
    "\n",
    "df_rez_5 = (\n",
    "    df_query\n",
    "    .groupby(F.col('A.actor_id'), F.col('first_name'), F.col('Last_name'))\n",
    "    .count()\n",
    "    .orderBy(F.col('count').desc())\n",
    "    .filter(F.col('count')>= rate)\n",
    "    .show()\n",
    ")"
   ]
  },
  {
   "cell_type": "code",
   "execution_count": 8,
   "id": "65850c33",
   "metadata": {
    "pycharm": {
     "name": "#%%\n"
    }
   },
   "outputs": [
    {
     "name": "stdout",
     "output_type": "stream",
     "text": [
      "+------------------+---------------+--------------+\n",
      "|              city|num_active_cust|num_not_active|\n",
      "+------------------+---------------+--------------+\n",
      "|         Pingxiang|              0|             1|\n",
      "|       Szkesfehrvr|              0|             1|\n",
      "|  Charlotte Amalie|              0|             1|\n",
      "|         Najafabad|              0|             1|\n",
      "|           Wroclaw|              0|             1|\n",
      "|            Ktahya|              0|             1|\n",
      "|           Bat Yam|              0|             1|\n",
      "|   Southend-on-Sea|              0|             1|\n",
      "|            Amroha|              0|             1|\n",
      "|            Kamyin|              0|             1|\n",
      "|          Xiangfan|              0|             1|\n",
      "|            Daxian|              0|             1|\n",
      "|          Uluberia|              0|             1|\n",
      "|     Coatzacoalcos|              0|             1|\n",
      "|        Kumbakonam|              0|             1|\n",
      "|A Corua (La Corua)|              1|             0|\n",
      "|          Fengshan|              1|             0|\n",
      "|          Chisinau|              1|             0|\n",
      "|           Udaipur|              1|             0|\n",
      "|              Linz|              1|             0|\n",
      "+------------------+---------------+--------------+\n",
      "only showing top 20 rows\n",
      "\n"
     ]
    }
   ],
   "source": [
    "# Вывести города с количеством активных и неактивных клиентов (активный — customer.active = 1).\n",
    "# Отсортировать по количеству неактивных клиентов по убыванию.\n",
    "\n",
    "df_city = (\n",
    "    spark.read.jdbc(url=url, table='city', properties=properties)\n",
    "    .select(F.col('city_id'), F.col('city'))\n",
    ")\n",
    "\n",
    "df_address = (\n",
    "    spark.read.jdbc(url=url, table='address', properties=properties)\n",
    "    .select(F.col('city_id'), F.col('address_id'))\n",
    ")\n",
    "\n",
    "df_customer = (\n",
    "    spark.read.jdbc(url=url, table='customer', properties=properties)\n",
    "    .select(F.col('address_id'), F.col('active'))\n",
    ")\n",
    "\n",
    "df_rez_6 = (\n",
    "    df_city\n",
    "    .join(df_address, df_city.city_id == df_address.city_id, how='inner')\n",
    "    .join(df_customer, df_address.address_id == df_customer.address_id, how='inner')\n",
    "    .groupby(F.col('city'))\n",
    "    .agg(\n",
    "        F.sum(F.col('active')).alias('num_active_cust'),\n",
    "        (F.count(F.col('active'))-F.sum(F.col('active'))).alias('num_not_active')\n",
    "    )\n",
    "    .orderBy(F.col('num_not_active').desc())\n",
    "    .show()\n",
    ")\n"
   ]
  },
  {
   "cell_type": "code",
   "execution_count": 55,
   "id": "8108d515",
   "metadata": {
    "pycharm": {
     "name": "#%%\n"
    }
   },
   "outputs": [
    {
     "name": "stderr",
     "output_type": "stream",
     "text": [
      "\r",
      "[Stage 745:>                                                        (0 + 1) / 1]\r",
      "\r",
      "                                                                                \r"
     ]
    },
    {
     "name": "stdout",
     "output_type": "stream",
     "text": [
      "+-------+--------------------+------+----------+\n",
      "|   name|                city|rental|Max_rental|\n",
      "+-------+--------------------+------+----------+\n",
      "|Foreign|Augusta-Richmond ...|    22|        22|\n",
      "+-------+--------------------+------+----------+\n",
      "\n"
     ]
    }
   ],
   "source": [
    "# Вывести категорию фильмов, \n",
    "# у которой самое большое кол-во часов суммарной аренды в городах (customer.address_id в этом city), \n",
    "# и которые начинаются на букву “a”. Тоже самое сделать для городов в которых есть символ “-”.\n",
    "\n",
    "\n",
    "\n",
    "df_rental = (\n",
    "    spark.read.jdbc(url=url, table='rental', properties=properties)\n",
    "    .select(F.col('rental_date'), F.col('inventory_id'), F.col('return_date'), F.col('customer_id'))\n",
    ")\n",
    "\n",
    "df_inventory = (\n",
    "    spark.read.jdbc(url=url, table='inventory', properties=properties)\n",
    "    .select(F.col('inventory_id'), F.col('film_id'))\n",
    ")\n",
    "\n",
    "df_customer = (\n",
    "    spark.read.jdbc(url=url, table='customer', properties=properties)\n",
    "    .select(F.col('customer_id'), F.col('address_id'))\n",
    ")\n",
    "\n",
    "df_address = (\n",
    "    spark.read.jdbc(url=url, table='address', properties=properties)\n",
    "    .select(F.col('address_id'), F.col('city_id'))\n",
    ")\n",
    "\n",
    "df_city = (\n",
    "    spark.read.jdbc(url=url, table='city', properties=properties)\n",
    "    .select(F.col('city_id'), F.col('city'))\n",
    ")\n",
    "\n",
    "w_1 = Window().partitionBy('city')\n",
    "\n",
    "df_rez_7 = (\n",
    "    df_rental\n",
    "    .join(df_inventory, df_inventory.inventory_id == df_rental.inventory_id, how='inner')\n",
    "    .join(df_film_category, df_film_category.film_id == df_inventory.film_id, how='inner')\n",
    "    .join(df_category, df_category.category_id == df_film_category.category_id, how='inner')\n",
    "    .join(df_customer, df_customer.customer_id == df_rental.customer_id, how='inner')\n",
    "    .join(df_address, df_address.address_id == df_customer.address_id, how='inner')\n",
    "    .join(df_city, df_city.city_id == df_address.city_id, how='inner')\n",
    "    .filter(F.col('city').rlike('^[A]'))\n",
    "    .filter(F.col('city').rlike('-'))\n",
    "    .groupby(F.col('name'), F.col('city'))\n",
    "    \n",
    "    .agg(\n",
    "        F.sum(\n",
    "              F.datediff(F.col('return_date'), F.col('rental_date'))\n",
    "             ).alias('rental')\n",
    "         )\n",
    "    .withColumn('Max_rental',F.max(F.col('rental')).over(w_1))\n",
    "    .filter(F.col('rental') == F.col('Max_rental'))\n",
    "    .orderBy(F.col('Max_rental').desc())\n",
    "    .show()\n",
    ")"
   ]
  },
  {
   "cell_type": "code",
   "execution_count": null,
   "id": "788d3651",
   "metadata": {
    "pycharm": {
     "name": "#%%\n"
    }
   },
   "outputs": [],
   "source": []
  },
  {
   "cell_type": "code",
   "execution_count": null,
   "id": "2b36e13e",
   "metadata": {
    "pycharm": {
     "name": "#%%\n"
    }
   },
   "outputs": [],
   "source": []
  },
  {
   "cell_type": "code",
   "execution_count": null,
   "id": "ba8dc2d6",
   "metadata": {
    "pycharm": {
     "name": "#%%\n"
    }
   },
   "outputs": [],
   "source": []
  },
  {
   "cell_type": "code",
   "execution_count": null,
   "id": "766f2b58",
   "metadata": {
    "pycharm": {
     "name": "#%%\n"
    }
   },
   "outputs": [],
   "source": []
  }
 ],
 "metadata": {
  "kernelspec": {
   "display_name": "Python 3 (ipykernel)",
   "language": "python",
   "name": "python3"
  },
  "language_info": {
   "codemirror_mode": {
    "name": "ipython",
    "version": 3
   },
   "file_extension": ".py",
   "mimetype": "text/x-python",
   "name": "python",
   "nbconvert_exporter": "python",
   "pygments_lexer": "ipython3",
   "version": "3.10.6"
  }
 },
 "nbformat": 4,
 "nbformat_minor": 5
}